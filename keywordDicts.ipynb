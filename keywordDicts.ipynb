{
  "nbformat": 4,
  "nbformat_minor": 0,
  "metadata": {
    "colab": {
      "name": "keywordDicts.ipynb",
      "provenance": [],
      "mount_file_id": "1qhyopwfqxLTStxk3zuQHORI1e6TciwFQ",
      "authorship_tag": "ABX9TyOriAI/7Nm6nmXKDSbpMrUT",
      "include_colab_link": true
    },
    "kernelspec": {
      "name": "python3",
      "display_name": "Python 3"
    }
  },
  "cells": [
    {
      "cell_type": "markdown",
      "metadata": {
        "id": "view-in-github",
        "colab_type": "text"
      },
      "source": [
        "<a href=\"https://colab.research.google.com/github/stegrieve/keywordDicts/blob/master/keywordDicts.ipynb\" target=\"_parent\"><img src=\"https://colab.research.google.com/assets/colab-badge.svg\" alt=\"Open In Colab\"/></a>"
      ]
    },
    {
      "cell_type": "code",
      "metadata": {
        "id": "GMFBwx-msBMO",
        "colab_type": "code",
        "colab": {}
      },
      "source": [
        "import pandas"
      ],
      "execution_count": 0,
      "outputs": []
    },
    {
      "cell_type": "code",
      "metadata": {
        "id": "AiZxwqP7sDrW",
        "colab_type": "code",
        "colab": {}
      },
      "source": [
        "df = pandas.read_excel('TEST.xlsx')"
      ],
      "execution_count": 0,
      "outputs": []
    },
    {
      "cell_type": "code",
      "metadata": {
        "id": "ulOwBf0bsUiI",
        "colab_type": "code",
        "colab": {
          "base_uri": "https://localhost:8080/",
          "height": 204
        },
        "outputId": "28eb12dc-259c-452d-e79a-d2e321600f05"
      },
      "source": [
        "df.head()"
      ],
      "execution_count": 5,
      "outputs": [
        {
          "output_type": "execute_result",
          "data": {
            "text/html": [
              "<div>\n",
              "<style scoped>\n",
              "    .dataframe tbody tr th:only-of-type {\n",
              "        vertical-align: middle;\n",
              "    }\n",
              "\n",
              "    .dataframe tbody tr th {\n",
              "        vertical-align: top;\n",
              "    }\n",
              "\n",
              "    .dataframe thead th {\n",
              "        text-align: right;\n",
              "    }\n",
              "</style>\n",
              "<table border=\"1\" class=\"dataframe\">\n",
              "  <thead>\n",
              "    <tr style=\"text-align: right;\">\n",
              "      <th></th>\n",
              "      <th>COVID</th>\n",
              "      <th>Notes</th>\n",
              "      <th>WFH</th>\n",
              "      <th>Notes.1</th>\n",
              "      <th>ELSE</th>\n",
              "      <th>Notes.2</th>\n",
              "    </tr>\n",
              "  </thead>\n",
              "  <tbody>\n",
              "    <tr>\n",
              "      <th>0</th>\n",
              "      <td>A</td>\n",
              "      <td>A1</td>\n",
              "      <td>AA</td>\n",
              "      <td>AA1</td>\n",
              "      <td>AAA</td>\n",
              "      <td>AAA1</td>\n",
              "    </tr>\n",
              "    <tr>\n",
              "      <th>1</th>\n",
              "      <td>B</td>\n",
              "      <td>A2</td>\n",
              "      <td>BB</td>\n",
              "      <td>AA2</td>\n",
              "      <td>BBB</td>\n",
              "      <td>AAA2</td>\n",
              "    </tr>\n",
              "    <tr>\n",
              "      <th>2</th>\n",
              "      <td>C</td>\n",
              "      <td>A3</td>\n",
              "      <td>CC</td>\n",
              "      <td>AA3</td>\n",
              "      <td>CCC</td>\n",
              "      <td>AAA3</td>\n",
              "    </tr>\n",
              "    <tr>\n",
              "      <th>3</th>\n",
              "      <td>D</td>\n",
              "      <td>A4</td>\n",
              "      <td>DD</td>\n",
              "      <td>AA4</td>\n",
              "      <td>DDD</td>\n",
              "      <td>AAA4</td>\n",
              "    </tr>\n",
              "    <tr>\n",
              "      <th>4</th>\n",
              "      <td>E</td>\n",
              "      <td>A5</td>\n",
              "      <td>EE</td>\n",
              "      <td>AA5</td>\n",
              "      <td>EEE</td>\n",
              "      <td>AAA5</td>\n",
              "    </tr>\n",
              "  </tbody>\n",
              "</table>\n",
              "</div>"
            ],
            "text/plain": [
              "  COVID Notes WFH Notes.1 ELSE Notes.2\n",
              "0     A    A1  AA     AA1  AAA    AAA1\n",
              "1     B    A2  BB     AA2  BBB    AAA2\n",
              "2     C    A3  CC     AA3  CCC    AAA3\n",
              "3     D    A4  DD     AA4  DDD    AAA4\n",
              "4     E    A5  EE     AA5  EEE    AAA5"
            ]
          },
          "metadata": {
            "tags": []
          },
          "execution_count": 5
        }
      ]
    },
    {
      "cell_type": "code",
      "metadata": {
        "id": "LCmKLws-sfQI",
        "colab_type": "code",
        "colab": {}
      },
      "source": [
        "maxColVal = len(df.columns)-1\n",
        "valCol = 0\n",
        "noteCol = valCol+1\n",
        "\n",
        "terms = []\n",
        "tags = []\n",
        "lista=[]\n",
        "while noteCol<=maxColVal:\n",
        "    for each in range(len(df.iloc[:,valCol])):\n",
        "        a={'Keyword' : df.loc[each].at[df.columns[valCol]],'Notes' : [df.loc[each].at[df.columns[noteCol]]]}\n",
        "        lista.append(a)\n",
        "    terms.append(dict([('Name',str(df.columns[valCol])), ('Keywords',lista)]))\n",
        "    tags.append(str(df.columns[valCol]))\n",
        "    valCol+=2\n",
        "    noteCol+=2\n",
        "    lista = []\n",
        "\n"
      ],
      "execution_count": 0,
      "outputs": []
    }
  ]
}